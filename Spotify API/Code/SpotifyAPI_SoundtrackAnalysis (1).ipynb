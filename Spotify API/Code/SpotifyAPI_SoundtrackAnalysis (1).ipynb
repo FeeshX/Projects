{
 "cells": [
  {
   "cell_type": "code",
   "execution_count": 1,
   "metadata": {},
   "outputs": [
    {
     "name": "stdout",
     "output_type": "stream",
     "text": [
      "Requirement already satisfied: spotipy in c:\\users\\misha\\anaconda3\\lib\\site-packages (2.16.0)\n",
      "Requirement already satisfied: six>=1.10.0 in c:\\users\\misha\\anaconda3\\lib\\site-packages (from spotipy) (1.15.0)\n",
      "Requirement already satisfied: requests>=2.20.0 in c:\\users\\misha\\anaconda3\\lib\\site-packages (from spotipy) (2.24.0)\n",
      "Requirement already satisfied: idna<3,>=2.5 in c:\\users\\misha\\anaconda3\\lib\\site-packages (from requests>=2.20.0->spotipy) (2.10)\n",
      "Requirement already satisfied: urllib3!=1.25.0,!=1.25.1,<1.26,>=1.21.1 in c:\\users\\misha\\anaconda3\\lib\\site-packages (from requests>=2.20.0->spotipy) (1.25.9)\n",
      "Requirement already satisfied: chardet<4,>=3.0.2 in c:\\users\\misha\\anaconda3\\lib\\site-packages (from requests>=2.20.0->spotipy) (3.0.4)\n",
      "Requirement already satisfied: certifi>=2017.4.17 in c:\\users\\misha\\anaconda3\\lib\\site-packages (from requests>=2.20.0->spotipy) (2020.6.20)\n"
     ]
    }
   ],
   "source": [
    "#Installing the Spotify Web API\n",
    "!pip install spotipy"
   ]
  },
  {
   "cell_type": "code",
   "execution_count": 11,
   "metadata": {},
   "outputs": [],
   "source": [
    "##### Importing necessary packages for data cleaning and analysis\n",
    "import pandas as pd\n",
    "import spotipy\n",
    "from spotipy.oauth2 import SpotifyClientCredentials\n",
    "import spotipy.util as util\n",
    "import time\n",
    "import numpy as np\n",
    "import matplotlib.pyplot as plt\n",
    "from matplotlib import style\n",
    "%matplotlib inline"
   ]
  },
  {
   "cell_type": "code",
   "execution_count": 12,
   "metadata": {},
   "outputs": [],
   "source": [
    "##### Authenticating and connecting to the API. For this I created an Spotify Developer's account. \n",
    "##### For the purpose of this analysis, I registered an application, and received a unique Client ID and secret.\n",
    "\n",
    "\n",
    "username = '1165605526'\n",
    "client_id ='ac39ed7e7a3545bdb6626a4f2c54f464'\n",
    "client_secret = 'e3604f1aca454a1687f87e0e8318aa80'\n",
    "redirect_uri = 'http://localhost:7777/callback'\n",
    "scope = 'user-read-recently-played'\n",
    "\n",
    "#Requesting an access token\n",
    "token = util.prompt_for_user_token(username = username, \n",
    "                                   scope = scope, \n",
    "                                   client_id = client_id,   \n",
    "                                   client_secret = client_secret,     \n",
    "                                   redirect_uri = redirect_uri)"
   ]
  },
  {
   "cell_type": "code",
   "execution_count": 13,
   "metadata": {},
   "outputs": [],
   "source": [
    "client_credentials_manager = SpotifyClientCredentials(client_id, client_secret)\n",
    "sp = spotipy.Spotify(client_credentials_manager=client_credentials_manager)"
   ]
  },
  {
   "cell_type": "code",
   "execution_count": 14,
   "metadata": {},
   "outputs": [
    {
     "name": "stdout",
     "output_type": "stream",
     "text": [
      "BQB-aNfhMjH6oyOlwMWEWHMHXf5wAXHSHU80tQqvv1ZVX_XL5r9M2TPpDWfqIAal1L_jUwlAxXd7IlDbO5N7EwcaRMjlpX7phh867w-VfPp1JuTYKVn-xhWHEejMyYuKRG5Myg8Pal7k0afNv8M9qQI\n"
     ]
    }
   ],
   "source": [
    "print(token)"
   ]
  },
  {
   "cell_type": "code",
   "execution_count": 15,
   "metadata": {},
   "outputs": [],
   "source": [
    "#Defining a function to pull tracks from the playlist\n",
    "def RetrieveTrackIDs(user, playlist_id):\n",
    "    Track_list = []\n",
    "    playlist = sp.user_playlist(user, playlist_id)\n",
    "    for item in playlist['tracks']['items']:\n",
    "        track = item['track']\n",
    "        Track_list.append(track['id'])\n",
    "    return Track_list"
   ]
  },
  {
   "cell_type": "code",
   "execution_count": 16,
   "metadata": {},
   "outputs": [],
   "source": [
    "#Retrieving track list for Madmen\n",
    "Track_list = RetrieveTrackIDs('e3b05vc8hqomuhf01m831d6zw','3tAKAgNdwEsG1jdWngayBj')"
   ]
  },
  {
   "cell_type": "code",
   "execution_count": 17,
   "metadata": {},
   "outputs": [],
   "source": [
    "#Retrieving track list for Madmen\n",
    "Track_list2 = RetrieveTrackIDs('x13swcx4g0sv93drma3ubjx1b','02JJAdWKby7lOXq6I2O0n8')"
   ]
  },
  {
   "cell_type": "code",
   "execution_count": 18,
   "metadata": {},
   "outputs": [],
   "source": [
    "#Creating a function to retrieve audio features data for each track on the playlist\n",
    "def RetrieveTrackFeatures(id):\n",
    "  meta = sp.track(id)\n",
    "  features = sp.audio_features(id)\n",
    "\n",
    "  name = meta['name']\n",
    "  album = meta['album']['name']\n",
    "  artist = meta['album']['artists'][0]['name']\n",
    "  release_date = meta['album']['release_date']\n",
    "  length = meta['duration_ms']\n",
    "  popularity = meta['popularity']\n",
    "\n",
    "  #Addign features\n",
    "  acousticness = features[0]['acousticness']\n",
    "  danceability = features[0]['danceability']\n",
    "  energy = features[0]['energy']\n",
    "  instrumentalness = features[0]['instrumentalness']\n",
    "  liveness = features[0]['liveness']\n",
    "  loudness = features[0]['loudness']\n",
    "  speechiness = features[0]['speechiness']\n",
    "  tempo = features[0]['tempo']\n",
    "  time_signature = features[0]['time_signature']\n",
    "\n",
    "  track = [name, album, artist, release_date, length, popularity, acousticness, danceability, energy, instrumentalness, liveness, loudness, speechiness, tempo, time_signature]\n",
    "  return track"
   ]
  },
  {
   "cell_type": "code",
   "execution_count": 19,
   "metadata": {},
   "outputs": [],
   "source": [
    "# looping over Track_list for Madmen\n",
    "tracks = []\n",
    "for i in range(len(Track_list)):\n",
    "  time.sleep(.5)\n",
    "  track = RetrieveTrackFeatures(Track_list[i])\n",
    "  tracks.append(track)\n",
    "\n",
    "# create dataset\n",
    "df = pd.DataFrame(tracks, columns = ['name', 'album', 'artist', 'release_date', 'length', 'popularity', 'acousticness', 'danceability', 'energy', 'instrumentalness', 'liveness', 'loudness', 'speechiness', 'tempo', 'time_signature'])\n",
    "df.to_csv(\"Madmen_soundtrack.csv\", sep = ',')"
   ]
  },
  {
   "cell_type": "code",
   "execution_count": 20,
   "metadata": {},
   "outputs": [],
   "source": [
    "# looping over Track_list for Whitelines\n",
    "tracks2 = []\n",
    "for i in range(len(Track_list2)):\n",
    "  time.sleep(.5)\n",
    "  track2 = RetrieveTrackFeatures(Track_list2[i])\n",
    "  tracks2.append(track2)\n",
    "\n",
    "# create dataset\n",
    "df2 = pd.DataFrame(tracks2, columns = ['name', 'album', 'artist', 'release_date', 'length', 'popularity', 'acousticness', 'danceability', 'energy', 'instrumentalness', 'liveness', 'loudness', 'speechiness', 'tempo', 'time_signature'])\n",
    "df2.to_csv(\"Whitelines_soundtrack.csv\", sep = ',')"
   ]
  },
  {
   "cell_type": "code",
   "execution_count": 21,
   "metadata": {},
   "outputs": [
    {
     "data": {
      "text/html": [
       "<div>\n",
       "<style scoped>\n",
       "    .dataframe tbody tr th:only-of-type {\n",
       "        vertical-align: middle;\n",
       "    }\n",
       "\n",
       "    .dataframe tbody tr th {\n",
       "        vertical-align: top;\n",
       "    }\n",
       "\n",
       "    .dataframe thead th {\n",
       "        text-align: right;\n",
       "    }\n",
       "</style>\n",
       "<table border=\"1\" class=\"dataframe\">\n",
       "  <thead>\n",
       "    <tr style=\"text-align: right;\">\n",
       "      <th></th>\n",
       "      <th>name</th>\n",
       "      <th>album</th>\n",
       "      <th>artist</th>\n",
       "      <th>release_date</th>\n",
       "      <th>length</th>\n",
       "      <th>popularity</th>\n",
       "      <th>acousticness</th>\n",
       "      <th>danceability</th>\n",
       "      <th>energy</th>\n",
       "      <th>instrumentalness</th>\n",
       "      <th>liveness</th>\n",
       "      <th>loudness</th>\n",
       "      <th>speechiness</th>\n",
       "      <th>tempo</th>\n",
       "      <th>time_signature</th>\n",
       "    </tr>\n",
       "  </thead>\n",
       "  <tbody>\n",
       "    <tr>\n",
       "      <th>0</th>\n",
       "      <td>Zou Bisou Bisou</td>\n",
       "      <td>Twistin'The Rock Vol 9</td>\n",
       "      <td>Gillian Hills</td>\n",
       "      <td>2002-01-01</td>\n",
       "      <td>135653</td>\n",
       "      <td>0</td>\n",
       "      <td>0.889</td>\n",
       "      <td>0.769</td>\n",
       "      <td>0.483</td>\n",
       "      <td>0.01020</td>\n",
       "      <td>0.0626</td>\n",
       "      <td>-9.177</td>\n",
       "      <td>0.0381</td>\n",
       "      <td>130.991</td>\n",
       "      <td>4</td>\n",
       "    </tr>\n",
       "    <tr>\n",
       "      <th>1</th>\n",
       "      <td>Rain Drop Sounds</td>\n",
       "      <td>Rain Drops</td>\n",
       "      <td>Rain Radiance</td>\n",
       "      <td>2019-11-03</td>\n",
       "      <td>43720</td>\n",
       "      <td>28</td>\n",
       "      <td>0.731</td>\n",
       "      <td>0.147</td>\n",
       "      <td>0.759</td>\n",
       "      <td>0.98600</td>\n",
       "      <td>0.5640</td>\n",
       "      <td>-29.784</td>\n",
       "      <td>0.0824</td>\n",
       "      <td>137.609</td>\n",
       "      <td>3</td>\n",
       "    </tr>\n",
       "    <tr>\n",
       "      <th>2</th>\n",
       "      <td>Shahdaroba</td>\n",
       "      <td>In Dreams</td>\n",
       "      <td>Roy Orbison</td>\n",
       "      <td>1963-07</td>\n",
       "      <td>159240</td>\n",
       "      <td>0</td>\n",
       "      <td>0.711</td>\n",
       "      <td>0.482</td>\n",
       "      <td>0.451</td>\n",
       "      <td>0.00131</td>\n",
       "      <td>0.1750</td>\n",
       "      <td>-9.285</td>\n",
       "      <td>0.0286</td>\n",
       "      <td>109.323</td>\n",
       "      <td>4</td>\n",
       "    </tr>\n",
       "  </tbody>\n",
       "</table>\n",
       "</div>"
      ],
      "text/plain": [
       "               name                   album         artist release_date  \\\n",
       "0   Zou Bisou Bisou  Twistin'The Rock Vol 9  Gillian Hills   2002-01-01   \n",
       "1  Rain Drop Sounds              Rain Drops  Rain Radiance   2019-11-03   \n",
       "2        Shahdaroba               In Dreams    Roy Orbison      1963-07   \n",
       "\n",
       "   length  popularity  acousticness  danceability  energy  instrumentalness  \\\n",
       "0  135653           0         0.889         0.769   0.483           0.01020   \n",
       "1   43720          28         0.731         0.147   0.759           0.98600   \n",
       "2  159240           0         0.711         0.482   0.451           0.00131   \n",
       "\n",
       "   liveness  loudness  speechiness    tempo  time_signature  \n",
       "0    0.0626    -9.177       0.0381  130.991               4  \n",
       "1    0.5640   -29.784       0.0824  137.609               3  \n",
       "2    0.1750    -9.285       0.0286  109.323               4  "
      ]
     },
     "execution_count": 21,
     "metadata": {},
     "output_type": "execute_result"
    }
   ],
   "source": [
    "df.head(3)"
   ]
  },
  {
   "cell_type": "code",
   "execution_count": 22,
   "metadata": {
    "scrolled": true
   },
   "outputs": [
    {
     "data": {
      "text/plain": [
       "(100, 15)"
      ]
     },
     "execution_count": 22,
     "metadata": {},
     "output_type": "execute_result"
    }
   ],
   "source": [
    "#Checking how many rows and columns are in the df for Madmen\n",
    "df.shape"
   ]
  },
  {
   "cell_type": "code",
   "execution_count": 23,
   "metadata": {},
   "outputs": [
    {
     "data": {
      "text/plain": [
       "(98, 15)"
      ]
     },
     "execution_count": 23,
     "metadata": {},
     "output_type": "execute_result"
    }
   ],
   "source": [
    "#Checking how many rows and columns are in the df for Whitelines\n",
    "df2.shape"
   ]
  },
  {
   "cell_type": "code",
   "execution_count": 24,
   "metadata": {},
   "outputs": [],
   "source": [
    "#Adding a column indicating whether it belongs to the Madmen[1] or Whitelines[0] soundtrack.\n",
    "df['Group'] = 1\n",
    "df2['Group'] = 0"
   ]
  },
  {
   "cell_type": "code",
   "execution_count": 25,
   "metadata": {},
   "outputs": [
    {
     "data": {
      "text/html": [
       "<div>\n",
       "<style scoped>\n",
       "    .dataframe tbody tr th:only-of-type {\n",
       "        vertical-align: middle;\n",
       "    }\n",
       "\n",
       "    .dataframe tbody tr th {\n",
       "        vertical-align: top;\n",
       "    }\n",
       "\n",
       "    .dataframe thead th {\n",
       "        text-align: right;\n",
       "    }\n",
       "</style>\n",
       "<table border=\"1\" class=\"dataframe\">\n",
       "  <thead>\n",
       "    <tr style=\"text-align: right;\">\n",
       "      <th></th>\n",
       "      <th>name</th>\n",
       "      <th>album</th>\n",
       "      <th>artist</th>\n",
       "      <th>release_date</th>\n",
       "      <th>length</th>\n",
       "      <th>popularity</th>\n",
       "      <th>acousticness</th>\n",
       "      <th>danceability</th>\n",
       "      <th>energy</th>\n",
       "      <th>instrumentalness</th>\n",
       "      <th>liveness</th>\n",
       "      <th>loudness</th>\n",
       "      <th>speechiness</th>\n",
       "      <th>tempo</th>\n",
       "      <th>time_signature</th>\n",
       "      <th>Group</th>\n",
       "    </tr>\n",
       "  </thead>\n",
       "  <tbody>\n",
       "    <tr>\n",
       "      <th>0</th>\n",
       "      <td>DÉJALO</td>\n",
       "      <td>DÉJALO</td>\n",
       "      <td>A.CHAL</td>\n",
       "      <td>2018-11-30</td>\n",
       "      <td>199485</td>\n",
       "      <td>36</td>\n",
       "      <td>0.143</td>\n",
       "      <td>0.805</td>\n",
       "      <td>0.386</td>\n",
       "      <td>0.285</td>\n",
       "      <td>0.111</td>\n",
       "      <td>-10.628</td>\n",
       "      <td>0.213</td>\n",
       "      <td>131.09</td>\n",
       "      <td>4</td>\n",
       "      <td>0</td>\n",
       "    </tr>\n",
       "  </tbody>\n",
       "</table>\n",
       "</div>"
      ],
      "text/plain": [
       "     name   album  artist release_date  length  popularity  acousticness  \\\n",
       "0  DÉJALO  DÉJALO  A.CHAL   2018-11-30  199485          36         0.143   \n",
       "\n",
       "   danceability  energy  instrumentalness  liveness  loudness  speechiness  \\\n",
       "0         0.805   0.386             0.285     0.111   -10.628        0.213   \n",
       "\n",
       "    tempo  time_signature  Group  \n",
       "0  131.09               4      0  "
      ]
     },
     "execution_count": 25,
     "metadata": {},
     "output_type": "execute_result"
    }
   ],
   "source": [
    "df2.head(1)"
   ]
  },
  {
   "cell_type": "code",
   "execution_count": 26,
   "metadata": {},
   "outputs": [
    {
     "data": {
      "text/html": [
       "<div>\n",
       "<style scoped>\n",
       "    .dataframe tbody tr th:only-of-type {\n",
       "        vertical-align: middle;\n",
       "    }\n",
       "\n",
       "    .dataframe tbody tr th {\n",
       "        vertical-align: top;\n",
       "    }\n",
       "\n",
       "    .dataframe thead th {\n",
       "        text-align: right;\n",
       "    }\n",
       "</style>\n",
       "<table border=\"1\" class=\"dataframe\">\n",
       "  <thead>\n",
       "    <tr style=\"text-align: right;\">\n",
       "      <th></th>\n",
       "      <th>index</th>\n",
       "      <th>name</th>\n",
       "      <th>album</th>\n",
       "      <th>artist</th>\n",
       "      <th>release_date</th>\n",
       "      <th>length</th>\n",
       "      <th>popularity</th>\n",
       "      <th>acousticness</th>\n",
       "      <th>danceability</th>\n",
       "      <th>energy</th>\n",
       "      <th>instrumentalness</th>\n",
       "      <th>liveness</th>\n",
       "      <th>loudness</th>\n",
       "      <th>speechiness</th>\n",
       "      <th>tempo</th>\n",
       "      <th>time_signature</th>\n",
       "      <th>Group</th>\n",
       "    </tr>\n",
       "  </thead>\n",
       "  <tbody>\n",
       "    <tr>\n",
       "      <th>71</th>\n",
       "      <td>71</td>\n",
       "      <td>Gonzo</td>\n",
       "      <td>Mad Men: A Musical Companion (1960-1965)</td>\n",
       "      <td>Various Artists</td>\n",
       "      <td>2011-01-01</td>\n",
       "      <td>144013</td>\n",
       "      <td>0</td>\n",
       "      <td>0.388</td>\n",
       "      <td>0.471</td>\n",
       "      <td>0.434</td>\n",
       "      <td>0.753000</td>\n",
       "      <td>0.121</td>\n",
       "      <td>-9.602</td>\n",
       "      <td>0.0331</td>\n",
       "      <td>63.335</td>\n",
       "      <td>4</td>\n",
       "      <td>1</td>\n",
       "    </tr>\n",
       "    <tr>\n",
       "      <th>44</th>\n",
       "      <td>44</td>\n",
       "      <td>Bye Bye Birdie - From the Columbia Pictures Pr...</td>\n",
       "      <td>Let Me Entertain You</td>\n",
       "      <td>Ann-Margret</td>\n",
       "      <td>1996-07-29</td>\n",
       "      <td>131266</td>\n",
       "      <td>18</td>\n",
       "      <td>0.842</td>\n",
       "      <td>0.562</td>\n",
       "      <td>0.839</td>\n",
       "      <td>0.000000</td>\n",
       "      <td>0.357</td>\n",
       "      <td>-4.206</td>\n",
       "      <td>0.0500</td>\n",
       "      <td>115.520</td>\n",
       "      <td>4</td>\n",
       "      <td>1</td>\n",
       "    </tr>\n",
       "    <tr>\n",
       "      <th>104</th>\n",
       "      <td>4</td>\n",
       "      <td>In My Zone</td>\n",
       "      <td>Tired Of Waiting Vol. 1</td>\n",
       "      <td>Ju Fresh</td>\n",
       "      <td>2020-09-04</td>\n",
       "      <td>225103</td>\n",
       "      <td>12</td>\n",
       "      <td>0.282</td>\n",
       "      <td>0.786</td>\n",
       "      <td>0.621</td>\n",
       "      <td>0.000015</td>\n",
       "      <td>0.208</td>\n",
       "      <td>-7.029</td>\n",
       "      <td>0.3010</td>\n",
       "      <td>145.062</td>\n",
       "      <td>4</td>\n",
       "      <td>0</td>\n",
       "    </tr>\n",
       "  </tbody>\n",
       "</table>\n",
       "</div>"
      ],
      "text/plain": [
       "     index                                               name  \\\n",
       "71      71                                              Gonzo   \n",
       "44      44  Bye Bye Birdie - From the Columbia Pictures Pr...   \n",
       "104      4                                         In My Zone   \n",
       "\n",
       "                                        album           artist release_date  \\\n",
       "71   Mad Men: A Musical Companion (1960-1965)  Various Artists   2011-01-01   \n",
       "44                       Let Me Entertain You      Ann-Margret   1996-07-29   \n",
       "104                   Tired Of Waiting Vol. 1         Ju Fresh   2020-09-04   \n",
       "\n",
       "     length  popularity  acousticness  danceability  energy  instrumentalness  \\\n",
       "71   144013           0         0.388         0.471   0.434          0.753000   \n",
       "44   131266          18         0.842         0.562   0.839          0.000000   \n",
       "104  225103          12         0.282         0.786   0.621          0.000015   \n",
       "\n",
       "     liveness  loudness  speechiness    tempo  time_signature  Group  \n",
       "71      0.121    -9.602       0.0331   63.335               4      1  \n",
       "44      0.357    -4.206       0.0500  115.520               4      1  \n",
       "104     0.208    -7.029       0.3010  145.062               4      0  "
      ]
     },
     "execution_count": 26,
     "metadata": {},
     "output_type": "execute_result"
    }
   ],
   "source": [
    "# Combining both data frames into one for analysis\n",
    "df_shows = df.append(df2)\n",
    "df_shows.reset_index(inplace= True)\n",
    "df_shows.sample(3)"
   ]
  },
  {
   "cell_type": "code",
   "execution_count": 67,
   "metadata": {},
   "outputs": [
    {
     "data": {
      "text/html": [
       "<div>\n",
       "<style scoped>\n",
       "    .dataframe tbody tr th:only-of-type {\n",
       "        vertical-align: middle;\n",
       "    }\n",
       "\n",
       "    .dataframe tbody tr th {\n",
       "        vertical-align: top;\n",
       "    }\n",
       "\n",
       "    .dataframe thead th {\n",
       "        text-align: right;\n",
       "    }\n",
       "</style>\n",
       "<table border=\"1\" class=\"dataframe\">\n",
       "  <thead>\n",
       "    <tr style=\"text-align: right;\">\n",
       "      <th></th>\n",
       "      <th>index</th>\n",
       "      <th>name</th>\n",
       "      <th>album</th>\n",
       "      <th>artist</th>\n",
       "      <th>release_date</th>\n",
       "      <th>length</th>\n",
       "      <th>popularity</th>\n",
       "      <th>acousticness</th>\n",
       "      <th>danceability</th>\n",
       "      <th>energy</th>\n",
       "      <th>instrumentalness</th>\n",
       "      <th>liveness</th>\n",
       "      <th>loudness</th>\n",
       "      <th>speechiness</th>\n",
       "      <th>tempo</th>\n",
       "      <th>time_signature</th>\n",
       "      <th>Group</th>\n",
       "      <th>Year</th>\n",
       "    </tr>\n",
       "  </thead>\n",
       "  <tbody>\n",
       "    <tr>\n",
       "      <th>0</th>\n",
       "      <td>0</td>\n",
       "      <td>Zou Bisou Bisou</td>\n",
       "      <td>Twistin'The Rock Vol 9</td>\n",
       "      <td>Gillian Hills</td>\n",
       "      <td>2002-01-01</td>\n",
       "      <td>135653</td>\n",
       "      <td>0</td>\n",
       "      <td>0.889</td>\n",
       "      <td>0.769</td>\n",
       "      <td>0.483</td>\n",
       "      <td>0.0102</td>\n",
       "      <td>0.0626</td>\n",
       "      <td>-9.177</td>\n",
       "      <td>0.0381</td>\n",
       "      <td>130.991</td>\n",
       "      <td>4</td>\n",
       "      <td>1</td>\n",
       "      <td>2002</td>\n",
       "    </tr>\n",
       "    <tr>\n",
       "      <th>1</th>\n",
       "      <td>1</td>\n",
       "      <td>Rain Drop Sounds</td>\n",
       "      <td>Rain Drops</td>\n",
       "      <td>Rain Radiance</td>\n",
       "      <td>2019-11-03</td>\n",
       "      <td>43720</td>\n",
       "      <td>28</td>\n",
       "      <td>0.731</td>\n",
       "      <td>0.147</td>\n",
       "      <td>0.759</td>\n",
       "      <td>0.9860</td>\n",
       "      <td>0.5640</td>\n",
       "      <td>-29.784</td>\n",
       "      <td>0.0824</td>\n",
       "      <td>137.609</td>\n",
       "      <td>3</td>\n",
       "      <td>1</td>\n",
       "      <td>2019</td>\n",
       "    </tr>\n",
       "  </tbody>\n",
       "</table>\n",
       "</div>"
      ],
      "text/plain": [
       "   index              name                   album         artist  \\\n",
       "0      0   Zou Bisou Bisou  Twistin'The Rock Vol 9  Gillian Hills   \n",
       "1      1  Rain Drop Sounds              Rain Drops  Rain Radiance   \n",
       "\n",
       "  release_date  length  popularity  acousticness  danceability  energy  \\\n",
       "0   2002-01-01  135653           0         0.889         0.769   0.483   \n",
       "1   2019-11-03   43720          28         0.731         0.147   0.759   \n",
       "\n",
       "   instrumentalness  liveness  loudness  speechiness    tempo  time_signature  \\\n",
       "0            0.0102    0.0626    -9.177       0.0381  130.991               4   \n",
       "1            0.9860    0.5640   -29.784       0.0824  137.609               3   \n",
       "\n",
       "   Group  Year  \n",
       "0      1  2002  \n",
       "1      1  2019  "
      ]
     },
     "execution_count": 67,
     "metadata": {},
     "output_type": "execute_result"
    }
   ],
   "source": [
    "df_shows['Year'] = df_shows.release_date.apply(lambda x: x[0:4])\n",
    "df_shows.head(2)"
   ]
  },
  {
   "cell_type": "code",
   "execution_count": 59,
   "metadata": {},
   "outputs": [
    {
     "data": {
      "text/html": [
       "<div>\n",
       "<style scoped>\n",
       "    .dataframe tbody tr th:only-of-type {\n",
       "        vertical-align: middle;\n",
       "    }\n",
       "\n",
       "    .dataframe tbody tr th {\n",
       "        vertical-align: top;\n",
       "    }\n",
       "\n",
       "    .dataframe thead th {\n",
       "        text-align: right;\n",
       "    }\n",
       "</style>\n",
       "<table border=\"1\" class=\"dataframe\">\n",
       "  <thead>\n",
       "    <tr style=\"text-align: right;\">\n",
       "      <th></th>\n",
       "      <th>acousticness</th>\n",
       "      <th>danceability</th>\n",
       "      <th>energy</th>\n",
       "      <th>instrumentalness</th>\n",
       "      <th>liveness</th>\n",
       "      <th>speechiness</th>\n",
       "      <th>Group</th>\n",
       "    </tr>\n",
       "  </thead>\n",
       "  <tbody>\n",
       "    <tr>\n",
       "      <th>90</th>\n",
       "      <td>0.265</td>\n",
       "      <td>0.646</td>\n",
       "      <td>0.668</td>\n",
       "      <td>0.000</td>\n",
       "      <td>0.0688</td>\n",
       "      <td>0.0479</td>\n",
       "      <td>1</td>\n",
       "    </tr>\n",
       "    <tr>\n",
       "      <th>20</th>\n",
       "      <td>0.981</td>\n",
       "      <td>0.186</td>\n",
       "      <td>0.183</td>\n",
       "      <td>0.897</td>\n",
       "      <td>0.1220</td>\n",
       "      <td>0.0408</td>\n",
       "      <td>1</td>\n",
       "    </tr>\n",
       "  </tbody>\n",
       "</table>\n",
       "</div>"
      ],
      "text/plain": [
       "    acousticness  danceability  energy  instrumentalness  liveness  \\\n",
       "90         0.265         0.646   0.668             0.000    0.0688   \n",
       "20         0.981         0.186   0.183             0.897    0.1220   \n",
       "\n",
       "    speechiness  Group  \n",
       "90       0.0479      1  \n",
       "20       0.0408      1  "
      ]
     },
     "execution_count": 59,
     "metadata": {},
     "output_type": "execute_result"
    }
   ],
   "source": [
    "# Create data frame with features\n",
    "dfshows_features = df_shows[['acousticness', 'danceability', 'energy', 'instrumentalness', 'liveness', 'speechiness', 'Group']]\n",
    "dfshows_features.sample(2)"
   ]
  },
  {
   "cell_type": "code",
   "execution_count": 60,
   "metadata": {},
   "outputs": [
    {
     "data": {
      "text/html": [
       "<div>\n",
       "<style scoped>\n",
       "    .dataframe tbody tr th:only-of-type {\n",
       "        vertical-align: middle;\n",
       "    }\n",
       "\n",
       "    .dataframe tbody tr th {\n",
       "        vertical-align: top;\n",
       "    }\n",
       "\n",
       "    .dataframe thead th {\n",
       "        text-align: right;\n",
       "    }\n",
       "</style>\n",
       "<table border=\"1\" class=\"dataframe\">\n",
       "  <thead>\n",
       "    <tr style=\"text-align: right;\">\n",
       "      <th></th>\n",
       "      <th>acousticness</th>\n",
       "      <th>danceability</th>\n",
       "      <th>energy</th>\n",
       "      <th>instrumentalness</th>\n",
       "      <th>liveness</th>\n",
       "      <th>speechiness</th>\n",
       "      <th>Group</th>\n",
       "    </tr>\n",
       "  </thead>\n",
       "  <tbody>\n",
       "    <tr>\n",
       "      <th>0</th>\n",
       "      <td>0.889</td>\n",
       "      <td>0.769</td>\n",
       "      <td>0.483</td>\n",
       "      <td>0.01020</td>\n",
       "      <td>0.0626</td>\n",
       "      <td>0.0381</td>\n",
       "      <td>1</td>\n",
       "    </tr>\n",
       "    <tr>\n",
       "      <th>1</th>\n",
       "      <td>0.731</td>\n",
       "      <td>0.147</td>\n",
       "      <td>0.759</td>\n",
       "      <td>0.98600</td>\n",
       "      <td>0.5640</td>\n",
       "      <td>0.0824</td>\n",
       "      <td>1</td>\n",
       "    </tr>\n",
       "    <tr>\n",
       "      <th>2</th>\n",
       "      <td>0.711</td>\n",
       "      <td>0.482</td>\n",
       "      <td>0.451</td>\n",
       "      <td>0.00131</td>\n",
       "      <td>0.1750</td>\n",
       "      <td>0.0286</td>\n",
       "      <td>1</td>\n",
       "    </tr>\n",
       "  </tbody>\n",
       "</table>\n",
       "</div>"
      ],
      "text/plain": [
       "   acousticness  danceability  energy  instrumentalness  liveness  \\\n",
       "0         0.889         0.769   0.483           0.01020    0.0626   \n",
       "1         0.731         0.147   0.759           0.98600    0.5640   \n",
       "2         0.711         0.482   0.451           0.00131    0.1750   \n",
       "\n",
       "   speechiness  Group  \n",
       "0       0.0381      1  \n",
       "1       0.0824      1  \n",
       "2       0.0286      1  "
      ]
     },
     "execution_count": 60,
     "metadata": {},
     "output_type": "execute_result"
    }
   ],
   "source": [
    "df_madmen = dfshows_features[dfshows_features['Group'] == 1]\n",
    "df_madmen.head(3)"
   ]
  },
  {
   "cell_type": "code",
   "execution_count": 61,
   "metadata": {},
   "outputs": [
    {
     "data": {
      "text/html": [
       "<div>\n",
       "<style scoped>\n",
       "    .dataframe tbody tr th:only-of-type {\n",
       "        vertical-align: middle;\n",
       "    }\n",
       "\n",
       "    .dataframe tbody tr th {\n",
       "        vertical-align: top;\n",
       "    }\n",
       "\n",
       "    .dataframe thead th {\n",
       "        text-align: right;\n",
       "    }\n",
       "</style>\n",
       "<table border=\"1\" class=\"dataframe\">\n",
       "  <thead>\n",
       "    <tr style=\"text-align: right;\">\n",
       "      <th></th>\n",
       "      <th>acousticness</th>\n",
       "      <th>danceability</th>\n",
       "      <th>energy</th>\n",
       "      <th>instrumentalness</th>\n",
       "      <th>liveness</th>\n",
       "      <th>speechiness</th>\n",
       "    </tr>\n",
       "  </thead>\n",
       "  <tbody>\n",
       "    <tr>\n",
       "      <th>0</th>\n",
       "      <td>0.889</td>\n",
       "      <td>0.769</td>\n",
       "      <td>0.483</td>\n",
       "      <td>0.0102</td>\n",
       "      <td>0.0626</td>\n",
       "      <td>0.0381</td>\n",
       "    </tr>\n",
       "  </tbody>\n",
       "</table>\n",
       "</div>"
      ],
      "text/plain": [
       "   acousticness  danceability  energy  instrumentalness  liveness  speechiness\n",
       "0         0.889         0.769   0.483            0.0102    0.0626       0.0381"
      ]
     },
     "execution_count": 61,
     "metadata": {},
     "output_type": "execute_result"
    }
   ],
   "source": [
    "df_madmen = df_madmen.drop('Group',1)\n",
    "df_madmen.head(1)"
   ]
  },
  {
   "cell_type": "code",
   "execution_count": 62,
   "metadata": {},
   "outputs": [
    {
     "data": {
      "text/html": [
       "<div>\n",
       "<style scoped>\n",
       "    .dataframe tbody tr th:only-of-type {\n",
       "        vertical-align: middle;\n",
       "    }\n",
       "\n",
       "    .dataframe tbody tr th {\n",
       "        vertical-align: top;\n",
       "    }\n",
       "\n",
       "    .dataframe thead th {\n",
       "        text-align: right;\n",
       "    }\n",
       "</style>\n",
       "<table border=\"1\" class=\"dataframe\">\n",
       "  <thead>\n",
       "    <tr style=\"text-align: right;\">\n",
       "      <th></th>\n",
       "      <th>acousticness</th>\n",
       "      <th>danceability</th>\n",
       "      <th>energy</th>\n",
       "      <th>instrumentalness</th>\n",
       "      <th>liveness</th>\n",
       "      <th>speechiness</th>\n",
       "      <th>Group</th>\n",
       "    </tr>\n",
       "  </thead>\n",
       "  <tbody>\n",
       "    <tr>\n",
       "      <th>100</th>\n",
       "      <td>0.1430</td>\n",
       "      <td>0.805</td>\n",
       "      <td>0.386</td>\n",
       "      <td>0.285</td>\n",
       "      <td>0.111</td>\n",
       "      <td>0.213</td>\n",
       "      <td>0</td>\n",
       "    </tr>\n",
       "    <tr>\n",
       "      <th>101</th>\n",
       "      <td>0.5110</td>\n",
       "      <td>0.407</td>\n",
       "      <td>0.913</td>\n",
       "      <td>0.000</td>\n",
       "      <td>0.113</td>\n",
       "      <td>0.246</td>\n",
       "      <td>0</td>\n",
       "    </tr>\n",
       "    <tr>\n",
       "      <th>102</th>\n",
       "      <td>0.0468</td>\n",
       "      <td>0.556</td>\n",
       "      <td>0.802</td>\n",
       "      <td>0.000</td>\n",
       "      <td>0.416</td>\n",
       "      <td>0.355</td>\n",
       "      <td>0</td>\n",
       "    </tr>\n",
       "  </tbody>\n",
       "</table>\n",
       "</div>"
      ],
      "text/plain": [
       "     acousticness  danceability  energy  instrumentalness  liveness  \\\n",
       "100        0.1430         0.805   0.386             0.285     0.111   \n",
       "101        0.5110         0.407   0.913             0.000     0.113   \n",
       "102        0.0468         0.556   0.802             0.000     0.416   \n",
       "\n",
       "     speechiness  Group  \n",
       "100        0.213      0  \n",
       "101        0.246      0  \n",
       "102        0.355      0  "
      ]
     },
     "execution_count": 62,
     "metadata": {},
     "output_type": "execute_result"
    }
   ],
   "source": [
    "df_whitelines = dfshows_features[dfshows_features['Group'] == 0]\n",
    "df_whitelines.head(3)"
   ]
  },
  {
   "cell_type": "code",
   "execution_count": 63,
   "metadata": {},
   "outputs": [
    {
     "data": {
      "text/html": [
       "<div>\n",
       "<style scoped>\n",
       "    .dataframe tbody tr th:only-of-type {\n",
       "        vertical-align: middle;\n",
       "    }\n",
       "\n",
       "    .dataframe tbody tr th {\n",
       "        vertical-align: top;\n",
       "    }\n",
       "\n",
       "    .dataframe thead th {\n",
       "        text-align: right;\n",
       "    }\n",
       "</style>\n",
       "<table border=\"1\" class=\"dataframe\">\n",
       "  <thead>\n",
       "    <tr style=\"text-align: right;\">\n",
       "      <th></th>\n",
       "      <th>acousticness</th>\n",
       "      <th>danceability</th>\n",
       "      <th>energy</th>\n",
       "      <th>instrumentalness</th>\n",
       "      <th>liveness</th>\n",
       "      <th>speechiness</th>\n",
       "    </tr>\n",
       "  </thead>\n",
       "  <tbody>\n",
       "    <tr>\n",
       "      <th>100</th>\n",
       "      <td>0.143</td>\n",
       "      <td>0.805</td>\n",
       "      <td>0.386</td>\n",
       "      <td>0.285</td>\n",
       "      <td>0.111</td>\n",
       "      <td>0.213</td>\n",
       "    </tr>\n",
       "  </tbody>\n",
       "</table>\n",
       "</div>"
      ],
      "text/plain": [
       "     acousticness  danceability  energy  instrumentalness  liveness  \\\n",
       "100         0.143         0.805   0.386             0.285     0.111   \n",
       "\n",
       "     speechiness  \n",
       "100        0.213  "
      ]
     },
     "execution_count": 63,
     "metadata": {},
     "output_type": "execute_result"
    }
   ],
   "source": [
    "df_whitelines = df_whitelines.drop('Group',1)\n",
    "df_whitelines.head(1)"
   ]
  },
  {
   "cell_type": "code",
   "execution_count": 64,
   "metadata": {},
   "outputs": [
    {
     "data": {
      "image/png": "[encoded data removed]",
      "text/plain": [
       "<Figure size 1080x1080 with 1 Axes>"
      ]
     },
     "metadata": {},
     "output_type": "display_data"
    }
   ],
   "source": [
    "# Number of features\n",
    "N = len(df_madmen.mean())\n",
    "# Array with the number of features\n",
    "ind = np.arange(N) \n",
    "\n",
    "width = 0.35  \n",
    "#Bar plot with my list\n",
    "plt.barh(ind, df_madmen.mean() , width, label='Madmen', color = 'lightslategray')\n",
    "#Bar plot with her list\n",
    "plt.barh(ind + width, df_whitelines.mean(), width, label='Whitelines', color = 'CornflowerBlue')\n",
    "\n",
    "#X- label\n",
    "plt.xlabel('Mean', fontsize = 12)\n",
    "# Title\n",
    "plt.title('Mean values of the audio features')\n",
    "#Vertical ticks\n",
    "plt.yticks(ind + width / 2, (list(df_whitelines)[:]), fontsize = 12)\n",
    "#legend\n",
    "plt.legend(loc='best')\n",
    "# Figure size\n",
    "plt.rcParams['figure.figsize'] =(10,6)\n",
    "# Set style\n",
    "style.use(\"ggplot\")\n",
    "\n",
    "plt.show()"
   ]
  },
  {
   "cell_type": "code",
   "execution_count": 166,
   "metadata": {},
   "outputs": [
    {
     "data": {
      "text/plain": [
       "<matplotlib.legend.Legend at 0x1ee0ee89370>"
      ]
     },
     "execution_count": 166,
     "metadata": {},
     "output_type": "execute_result"
    },
    {
     "data": {
      "image/png": "[encoded data removed]",
      "text/plain": [
       "<Figure size 1296x1296 with 1 Axes>"
      ]
     },
     "metadata": {},
     "output_type": "display_data"
    }
   ],
   "source": [
    "labels= list(df_madmen)[:]\n",
    "stats= df_madmen.mean().tolist()\n",
    "stats2 = df_whitelines.mean().tolist()\n",
    "\n",
    "angles=np.linspace(0, 2*np.pi, len(labels), endpoint=False)\n",
    "\n",
    "# close the plot\n",
    "stats=np.concatenate((stats,[stats[0]]))\n",
    "stats2 =np.concatenate((stats2,[stats2[0]])) \n",
    "angles=np.concatenate((angles,[angles[0]]))\n",
    "\n",
    "#Size of the figure\n",
    "fig=plt.figure(figsize = (18,18))\n",
    "\n",
    "ax = fig.add_subplot(221, polar=True)\n",
    "ax.plot(angles, stats, 'o-', linewidth=2, label = \"Madmen\", color= 'gray')\n",
    "ax.fill(angles, stats, alpha=0.25, facecolor='gray')\n",
    "ax.set_thetagrids(angles * 180/np.pi, labels , fontsize = 13)\n",
    "\n",
    "\n",
    "ax.set_rlabel_position(250)\n",
    "plt.yticks([0.2 , 0.4 , 0.6 , 0.8  ], [\"0.2\",'0.4', \"0.6\", \"0.8\"], color=\"grey\", size=12)\n",
    "plt.ylim(0,1)\n",
    "\n",
    "ax.plot(angles, stats2, 'o-', linewidth=2, label = \"Whitelines\", color = 'DarkBlue')\n",
    "ax.fill(angles, stats2, alpha=0.25, facecolor='DarkBlue' )\n",
    "ax.set_title('Mean values of the audio features')\n",
    "ax.grid(True)\n",
    "\n",
    "plt.legend(loc='best', bbox_to_anchor=(0.1, 0.1))"
   ]
  },
  {
   "cell_type": "code",
   "execution_count": 41,
   "metadata": {},
   "outputs": [
    {
     "data": {
      "image/png": "[encoded data removed]",
      "text/plain": [
       "<Figure size 720x432 with 2 Axes>"
      ]
     },
     "metadata": {},
     "output_type": "display_data"
    }
   ],
   "source": [
    "tempo_whitelines = df_shows.loc[ df_shows.Group == 0, ['tempo']]\n",
    "tempo_madmen = df_shows.loc[ df_shows.Group == 1, ['tempo']]\n",
    "\n",
    "N = len(tempo_whitelines.mean())\n",
    "\n",
    "ind = np.arange(N) \n",
    "\n",
    "plt.subplot(221)\n",
    "width = 0.35      \n",
    "plt.bar(ind, tempo_madmen.mean() , width, label='Madmen', color = 'lightslategray')\n",
    "plt.bar(ind + 1.1*width, tempo_whitelines.mean(), width, label='Whitelimes', color = 'CornflowerBlue')\n",
    "\n",
    "plt.ylabel('Mean [BPM]', fontsize = 12)\n",
    "plt.title('Tempo Means')\n",
    "\n",
    "plt.xticks(ind + width / 2, (list(tempo_whitelines)[:]), fontsize = 12)\n",
    "plt.legend(loc='best')\n",
    "style.use(\"ggplot\")\n",
    "\n",
    "\n",
    "plt.subplot(222)\n",
    "\n",
    "loud_whitelines = df_shows.loc[ df_shows.Group == 0, ['loudness']]\n",
    "loud_madmen = df_shows.loc[ df_shows.Group == 1, ['loudness']]\n",
    "\n",
    "N = len(loud_whitelines.mean())\n",
    "\n",
    "ind = np.arange(N) \n",
    "\n",
    "width = 0.35      \n",
    "plt.bar(ind, loud_madmen.mean() , width, label='Madmen', color = 'lightslategray')\n",
    "plt.bar(ind + 1.1*width, loud_whitelines.mean(), width, label='Whitelines', color = 'CornflowerBlue')\n",
    "\n",
    "plt.ylabel('Mean [db]', fontsize = 12)\n",
    "plt.title('Loudness Means')\n",
    "\n",
    "\n",
    "\n",
    "plt.xticks(ind + width / 2, (list(loud_whitelines)[:]), fontsize = 12)\n",
    "plt.legend(loc='lower left')\n",
    "style.use(\"ggplot\")\n",
    "plt.rcParams['figure.figsize'] =(12,12)\n",
    "plt.tight_layout()\n",
    "plt.show()"
   ]
  },
  {
   "cell_type": "code",
   "execution_count": 42,
   "metadata": {},
   "outputs": [
    {
     "data": {
      "text/plain": [
       "tempo    120.06798\n",
       "dtype: float64"
      ]
     },
     "execution_count": 42,
     "metadata": {},
     "output_type": "execute_result"
    }
   ],
   "source": [
    "tempo_madmen.mean()"
   ]
  },
  {
   "cell_type": "code",
   "execution_count": 43,
   "metadata": {},
   "outputs": [
    {
     "data": {
      "text/plain": [
       "tempo    118.579673\n",
       "dtype: float64"
      ]
     },
     "execution_count": 43,
     "metadata": {},
     "output_type": "execute_result"
    }
   ],
   "source": [
    "tempo_whitelines.mean()"
   ]
  },
  {
   "cell_type": "code",
   "execution_count": 44,
   "metadata": {},
   "outputs": [
    {
     "data": {
      "text/plain": [
       "loudness   -10.12337\n",
       "dtype: float64"
      ]
     },
     "execution_count": 44,
     "metadata": {},
     "output_type": "execute_result"
    }
   ],
   "source": [
    "loud_madmen.mean()"
   ]
  },
  {
   "cell_type": "code",
   "execution_count": 46,
   "metadata": {},
   "outputs": [
    {
     "data": {
      "text/plain": [
       "loudness   -6.806694\n",
       "dtype: float64"
      ]
     },
     "execution_count": 46,
     "metadata": {},
     "output_type": "execute_result"
    }
   ],
   "source": [
    "loud_whitelines.mean()"
   ]
  },
  {
   "cell_type": "code",
   "execution_count": 36,
   "metadata": {},
   "outputs": [
    {
     "data": {
      "text/plain": [
       "0.19"
      ]
     },
     "execution_count": 36,
     "metadata": {},
     "output_type": "execute_result"
    }
   ],
   "source": [
    "round(df_madmen.std().mean(),2)"
   ]
  },
  {
   "cell_type": "code",
   "execution_count": 37,
   "metadata": {},
   "outputs": [
    {
     "data": {
      "text/plain": [
       "0.15"
      ]
     },
     "execution_count": 37,
     "metadata": {},
     "output_type": "execute_result"
    }
   ],
   "source": [
    "round(df_whitelines.std().mean(),2)"
   ]
  },
  {
   "cell_type": "code",
   "execution_count": 38,
   "metadata": {},
   "outputs": [
    {
     "data": {
      "text/plain": [
       "0.1942593777669397"
      ]
     },
     "execution_count": 38,
     "metadata": {},
     "output_type": "execute_result"
    }
   ],
   "source": [
    "df_madmen.std().mean()"
   ]
  },
  {
   "cell_type": "code",
   "execution_count": 39,
   "metadata": {},
   "outputs": [
    {
     "data": {
      "text/plain": [
       "0.14519735354402688"
      ]
     },
     "execution_count": 39,
     "metadata": {},
     "output_type": "execute_result"
    }
   ],
   "source": [
    "df_whitelines.std().mean()"
   ]
  },
  {
   "cell_type": "code",
   "execution_count": 40,
   "metadata": {},
   "outputs": [
    {
     "data": {
      "image/png": "[encoded data removed]",
      "text/plain": [
       "<Figure size 720x432 with 1 Axes>"
      ]
     },
     "metadata": {},
     "output_type": "display_data"
    }
   ],
   "source": [
    "data = [df_madmen.std().mean(), df_whitelines.std().mean()]\n",
    "names = ('Madmen','Whitelines')\n",
    "pos = np.arange(len(names))\n",
    "colors = ['lightslategray', 'CornflowerBlue']\n",
    "\n",
    "plt.bar(pos, data, align = 'center', color = colors)\n",
    "plt.xticks(pos, names)\n",
    "plt.ylabel('Variety')\n",
    "plt.title('Variety of Audio Features')\n",
    "plt.show()"
   ]
  },
  {
   "cell_type": "code",
   "execution_count": 50,
   "metadata": {},
   "outputs": [
    {
     "data": {
      "image/png": "[encoded data removed]",
      "text/plain": [
       "<Figure size 1080x1080 with 2 Axes>"
      ]
     },
     "metadata": {},
     "output_type": "display_data"
    }
   ],
   "source": [
    "plt.subplot(221)\n",
    "\n",
    "df_madmen.std().sort_values(ascending= False).plot(kind = 'bar', color = 'SteelBlue')\n",
    "\n",
    "plt.xlabel('Features', fontsize = 14)\n",
    "plt.ylabel('Standard Deviation', fontsize = 14)\n",
    "plt.title(\"Standard Deviation of Madmen\")\n",
    "\n",
    "plt.subplot(222)\n",
    "df_whitelines.std().sort_values(ascending= False).plot(kind = 'bar', color = 'SlateBlue')\n",
    "\n",
    "plt.xlabel('Features', fontsize = 14)\n",
    "plt.ylabel('Standard Deviation', fontsize = 14)\n",
    "plt.title(\"Standard Deviation of Whitelines\")\n",
    "plt.rcParams['figure.figsize'] =(15,15)"
   ]
  },
  {
   "cell_type": "code",
   "execution_count": 126,
   "metadata": {},
   "outputs": [
    {
     "data": {
      "text/html": [
       "<div>\n",
       "<style scoped>\n",
       "    .dataframe tbody tr th:only-of-type {\n",
       "        vertical-align: middle;\n",
       "    }\n",
       "\n",
       "    .dataframe tbody tr th {\n",
       "        vertical-align: top;\n",
       "    }\n",
       "\n",
       "    .dataframe thead th {\n",
       "        text-align: right;\n",
       "    }\n",
       "</style>\n",
       "<table border=\"1\" class=\"dataframe\">\n",
       "  <thead>\n",
       "    <tr style=\"text-align: right;\">\n",
       "      <th></th>\n",
       "      <th>Year</th>\n",
       "      <th>Group</th>\n",
       "    </tr>\n",
       "  </thead>\n",
       "  <tbody>\n",
       "    <tr>\n",
       "      <th>77</th>\n",
       "      <td>2011</td>\n",
       "      <td>1</td>\n",
       "    </tr>\n",
       "    <tr>\n",
       "      <th>161</th>\n",
       "      <td>2018</td>\n",
       "      <td>0</td>\n",
       "    </tr>\n",
       "    <tr>\n",
       "      <th>26</th>\n",
       "      <td>2010</td>\n",
       "      <td>1</td>\n",
       "    </tr>\n",
       "    <tr>\n",
       "      <th>66</th>\n",
       "      <td>2011</td>\n",
       "      <td>1</td>\n",
       "    </tr>\n",
       "    <tr>\n",
       "      <th>45</th>\n",
       "      <td>1995</td>\n",
       "      <td>1</td>\n",
       "    </tr>\n",
       "    <tr>\n",
       "      <th>121</th>\n",
       "      <td>2018</td>\n",
       "      <td>0</td>\n",
       "    </tr>\n",
       "    <tr>\n",
       "      <th>1</th>\n",
       "      <td>2019</td>\n",
       "      <td>1</td>\n",
       "    </tr>\n",
       "    <tr>\n",
       "      <th>137</th>\n",
       "      <td>2020</td>\n",
       "      <td>0</td>\n",
       "    </tr>\n",
       "    <tr>\n",
       "      <th>49</th>\n",
       "      <td>2010</td>\n",
       "      <td>1</td>\n",
       "    </tr>\n",
       "    <tr>\n",
       "      <th>59</th>\n",
       "      <td>2012</td>\n",
       "      <td>1</td>\n",
       "    </tr>\n",
       "  </tbody>\n",
       "</table>\n",
       "</div>"
      ],
      "text/plain": [
       "     Year  Group\n",
       "77   2011      1\n",
       "161  2018      0\n",
       "26   2010      1\n",
       "66   2011      1\n",
       "45   1995      1\n",
       "121  2018      0\n",
       "1    2019      1\n",
       "137  2020      0\n",
       "49   2010      1\n",
       "59   2012      1"
      ]
     },
     "execution_count": 126,
     "metadata": {},
     "output_type": "execute_result"
    }
   ],
   "source": [
    "dfshows_year = df_shows[['Year', 'Group']]\n",
    "dfshows_year.sample(10)"
   ]
  },
  {
   "cell_type": "code",
   "execution_count": 127,
   "metadata": {},
   "outputs": [
    {
     "name": "stderr",
     "output_type": "stream",
     "text": [
      "<ipython-input-127-aaabd479a850>:1: SettingWithCopyWarning: \n",
      "A value is trying to be set on a copy of a slice from a DataFrame\n",
      "\n",
      "See the caveats in the documentation: https://pandas.pydata.org/pandas-docs/stable/user_guide/indexing.html#returning-a-view-versus-a-copy\n",
      "  dfshows_year.sort_values(['Year'], ascending=[True], inplace=True)\n"
     ]
    },
    {
     "data": {
      "text/html": [
       "<div>\n",
       "<style scoped>\n",
       "    .dataframe tbody tr th:only-of-type {\n",
       "        vertical-align: middle;\n",
       "    }\n",
       "\n",
       "    .dataframe tbody tr th {\n",
       "        vertical-align: top;\n",
       "    }\n",
       "\n",
       "    .dataframe thead th {\n",
       "        text-align: right;\n",
       "    }\n",
       "</style>\n",
       "<table border=\"1\" class=\"dataframe\">\n",
       "  <thead>\n",
       "    <tr style=\"text-align: right;\">\n",
       "      <th></th>\n",
       "      <th>Year</th>\n",
       "      <th>Group</th>\n",
       "    </tr>\n",
       "  </thead>\n",
       "  <tbody>\n",
       "    <tr>\n",
       "      <th>25</th>\n",
       "      <td>1953</td>\n",
       "      <td>1</td>\n",
       "    </tr>\n",
       "    <tr>\n",
       "      <th>42</th>\n",
       "      <td>1954</td>\n",
       "      <td>1</td>\n",
       "    </tr>\n",
       "  </tbody>\n",
       "</table>\n",
       "</div>"
      ],
      "text/plain": [
       "    Year  Group\n",
       "25  1953      1\n",
       "42  1954      1"
      ]
     },
     "execution_count": 127,
     "metadata": {},
     "output_type": "execute_result"
    }
   ],
   "source": [
    "dfshows_year.sort_values(['Year'], ascending=[True], inplace=True)\n",
    "dfshows_year.head(2)"
   ]
  },
  {
   "cell_type": "code",
   "execution_count": 154,
   "metadata": {},
   "outputs": [
    {
     "data": {
      "text/html": [
       "<div>\n",
       "<style scoped>\n",
       "    .dataframe tbody tr th:only-of-type {\n",
       "        vertical-align: middle;\n",
       "    }\n",
       "\n",
       "    .dataframe tbody tr th {\n",
       "        vertical-align: top;\n",
       "    }\n",
       "\n",
       "    .dataframe thead th {\n",
       "        text-align: right;\n",
       "    }\n",
       "</style>\n",
       "<table border=\"1\" class=\"dataframe\">\n",
       "  <thead>\n",
       "    <tr style=\"text-align: right;\">\n",
       "      <th>Group</th>\n",
       "      <th>0</th>\n",
       "      <th>1</th>\n",
       "    </tr>\n",
       "    <tr>\n",
       "      <th>Year</th>\n",
       "      <th></th>\n",
       "      <th></th>\n",
       "    </tr>\n",
       "  </thead>\n",
       "  <tbody>\n",
       "    <tr>\n",
       "      <th>1953</th>\n",
       "      <td>0</td>\n",
       "      <td>1</td>\n",
       "    </tr>\n",
       "    <tr>\n",
       "      <th>1954</th>\n",
       "      <td>0</td>\n",
       "      <td>1</td>\n",
       "    </tr>\n",
       "    <tr>\n",
       "      <th>1959</th>\n",
       "      <td>0</td>\n",
       "      <td>1</td>\n",
       "    </tr>\n",
       "    <tr>\n",
       "      <th>1962</th>\n",
       "      <td>0</td>\n",
       "      <td>1</td>\n",
       "    </tr>\n",
       "    <tr>\n",
       "      <th>1963</th>\n",
       "      <td>0</td>\n",
       "      <td>2</td>\n",
       "    </tr>\n",
       "    <tr>\n",
       "      <th>1964</th>\n",
       "      <td>0</td>\n",
       "      <td>1</td>\n",
       "    </tr>\n",
       "    <tr>\n",
       "      <th>1965</th>\n",
       "      <td>0</td>\n",
       "      <td>1</td>\n",
       "    </tr>\n",
       "    <tr>\n",
       "      <th>1966</th>\n",
       "      <td>0</td>\n",
       "      <td>1</td>\n",
       "    </tr>\n",
       "    <tr>\n",
       "      <th>1967</th>\n",
       "      <td>0</td>\n",
       "      <td>1</td>\n",
       "    </tr>\n",
       "    <tr>\n",
       "      <th>1968</th>\n",
       "      <td>0</td>\n",
       "      <td>1</td>\n",
       "    </tr>\n",
       "    <tr>\n",
       "      <th>1983</th>\n",
       "      <td>0</td>\n",
       "      <td>1</td>\n",
       "    </tr>\n",
       "    <tr>\n",
       "      <th>1992</th>\n",
       "      <td>0</td>\n",
       "      <td>1</td>\n",
       "    </tr>\n",
       "    <tr>\n",
       "      <th>1994</th>\n",
       "      <td>0</td>\n",
       "      <td>2</td>\n",
       "    </tr>\n",
       "    <tr>\n",
       "      <th>1995</th>\n",
       "      <td>0</td>\n",
       "      <td>1</td>\n",
       "    </tr>\n",
       "    <tr>\n",
       "      <th>1996</th>\n",
       "      <td>0</td>\n",
       "      <td>2</td>\n",
       "    </tr>\n",
       "    <tr>\n",
       "      <th>1997</th>\n",
       "      <td>0</td>\n",
       "      <td>2</td>\n",
       "    </tr>\n",
       "    <tr>\n",
       "      <th>2000</th>\n",
       "      <td>0</td>\n",
       "      <td>1</td>\n",
       "    </tr>\n",
       "    <tr>\n",
       "      <th>2002</th>\n",
       "      <td>0</td>\n",
       "      <td>1</td>\n",
       "    </tr>\n",
       "    <tr>\n",
       "      <th>2003</th>\n",
       "      <td>0</td>\n",
       "      <td>3</td>\n",
       "    </tr>\n",
       "    <tr>\n",
       "      <th>2005</th>\n",
       "      <td>0</td>\n",
       "      <td>2</td>\n",
       "    </tr>\n",
       "    <tr>\n",
       "      <th>2006</th>\n",
       "      <td>0</td>\n",
       "      <td>1</td>\n",
       "    </tr>\n",
       "    <tr>\n",
       "      <th>2007</th>\n",
       "      <td>0</td>\n",
       "      <td>1</td>\n",
       "    </tr>\n",
       "    <tr>\n",
       "      <th>2008</th>\n",
       "      <td>0</td>\n",
       "      <td>7</td>\n",
       "    </tr>\n",
       "    <tr>\n",
       "      <th>2009</th>\n",
       "      <td>0</td>\n",
       "      <td>9</td>\n",
       "    </tr>\n",
       "    <tr>\n",
       "      <th>2010</th>\n",
       "      <td>0</td>\n",
       "      <td>6</td>\n",
       "    </tr>\n",
       "    <tr>\n",
       "      <th>2011</th>\n",
       "      <td>0</td>\n",
       "      <td>36</td>\n",
       "    </tr>\n",
       "    <tr>\n",
       "      <th>2012</th>\n",
       "      <td>0</td>\n",
       "      <td>11</td>\n",
       "    </tr>\n",
       "    <tr>\n",
       "      <th>2016</th>\n",
       "      <td>2</td>\n",
       "      <td>0</td>\n",
       "    </tr>\n",
       "    <tr>\n",
       "      <th>2017</th>\n",
       "      <td>5</td>\n",
       "      <td>0</td>\n",
       "    </tr>\n",
       "    <tr>\n",
       "      <th>2018</th>\n",
       "      <td>20</td>\n",
       "      <td>0</td>\n",
       "    </tr>\n",
       "    <tr>\n",
       "      <th>2019</th>\n",
       "      <td>14</td>\n",
       "      <td>1</td>\n",
       "    </tr>\n",
       "    <tr>\n",
       "      <th>2020</th>\n",
       "      <td>57</td>\n",
       "      <td>1</td>\n",
       "    </tr>\n",
       "  </tbody>\n",
       "</table>\n",
       "</div>"
      ],
      "text/plain": [
       "Group   0   1\n",
       "Year         \n",
       "1953    0   1\n",
       "1954    0   1\n",
       "1959    0   1\n",
       "1962    0   1\n",
       "1963    0   2\n",
       "1964    0   1\n",
       "1965    0   1\n",
       "1966    0   1\n",
       "1967    0   1\n",
       "1968    0   1\n",
       "1983    0   1\n",
       "1992    0   1\n",
       "1994    0   2\n",
       "1995    0   1\n",
       "1996    0   2\n",
       "1997    0   2\n",
       "2000    0   1\n",
       "2002    0   1\n",
       "2003    0   3\n",
       "2005    0   2\n",
       "2006    0   1\n",
       "2007    0   1\n",
       "2008    0   7\n",
       "2009    0   9\n",
       "2010    0   6\n",
       "2011    0  36\n",
       "2012    0  11\n",
       "2016    2   0\n",
       "2017    5   0\n",
       "2018   20   0\n",
       "2019   14   1\n",
       "2020   57   1"
      ]
     },
     "execution_count": 154,
     "metadata": {},
     "output_type": "execute_result"
    }
   ],
   "source": [
    "#Creating a pivot table to count the number of songs per release year for each playlist\n",
    "Soundtrack_ByYear = pd.crosstab(index=dfshows_year[\"Year\"], \n",
    "                          columns=dfshows_year[\"Group\"])\n",
    "\n",
    "Soundtrack_ByYear"
   ]
  },
  {
   "cell_type": "code",
   "execution_count": 165,
   "metadata": {},
   "outputs": [
    {
     "data": {
      "text/plain": [
       "Text(0.5, 1.0, 'Soundtracks by Release Year')"
      ]
     },
     "execution_count": 165,
     "metadata": {},
     "output_type": "execute_result"
    },
    {
     "data": {
      "image/png": "[encoded data removed]",
      "text/plain": [
       "<Figure size 576x576 with 1 Axes>"
      ]
     },
     "metadata": {},
     "output_type": "display_data"
    }
   ],
   "source": [
    "#Visualizing the pivot table outlined above\n",
    "Soundtrack_ByYear.plot(kind=\"bar\", \n",
    "                 figsize=(8,8),\n",
    "                 stacked=True)\n",
    "plt.xlabel('Year', fontsize = 14)\n",
    "plt.ylabel('Number of Songs', fontsize = 14)\n",
    "plt.title(\"Soundtracks by Release Year\")"
   ]
  }
 ],
 "metadata": {
  "kernelspec": {
   "display_name": "Python 3",
   "language": "python",
   "name": "python3"
  },
  "language_info": {
   "codemirror_mode": {
    "name": "ipython",
    "version": 3
   },
   "file_extension": ".py",
   "mimetype": "text/x-python",
   "name": "python",
   "nbconvert_exporter": "python",
   "pygments_lexer": "ipython3",
   "version": "3.8.3"
  }
 },
 "nbformat": 4,
 "nbformat_minor": 4
}
